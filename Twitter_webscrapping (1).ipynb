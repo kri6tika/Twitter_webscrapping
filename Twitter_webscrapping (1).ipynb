{
 "cells": [
  {
   "cell_type": "code",
   "execution_count": 39,
   "metadata": {},
   "outputs": [],
   "source": [
    "import tweepy\n",
    "import requests\n",
    "import pandas as pd"
   ]
  },
  {
   "cell_type": "code",
   "execution_count": 42,
   "metadata": {},
   "outputs": [],
   "source": [
    "consumer_key= 'Ggf5VxXPXbiWHg50lsTeVZSHu'\n",
    "consumer_secret= 'cNtEAWx0j*********vEBe6V171OznVzF0TgPv78H606Y8iNqS'\n",
    "access_token= '10540798371685********j7evURZOWlNrT2T7TuXK7Q87a0AP'\n",
    "access_token_secret= 'IFRqtqa4kaiJg7XW5LIYYI1SKGrFGCFnXRFgIl4mgb5YP'\n",
    "\n",
    "auth= tweepy.OAuthHandler(consumer_key,consumer_secret)\n",
    "auth.set_access_token(access_token,access_token_secret)\n",
    "\n",
    "api=tweepy.API(auth)\n",
    "\n"
   ]
  },
  {
   "cell_type": "code",
   "execution_count": 56,
   "metadata": {},
   "outputs": [
    {
     "name": "stdout",
     "output_type": "stream",
     "text": [
      "Name:  Kritika Chaturvedi\n",
      "Location:  Delhi\n",
      "Followers: 4\n",
      "Frinds:    78\n",
      "Description:  Time is too valuable to be wasted on anything less than learning, love, good vibes and happiness. IRMAn😇\n"
     ]
    }
   ],
   "source": [
    "user = api.get_user(screen_name='kritika35561560')\n",
    "print('Name:  '+ str(user.name))\n",
    "print('Location:  '+ str(user.location))\n",
    "print('Followers: '+ str(user.followers_count))\n",
    "print('Frinds:    '+str(user.friends_count))\n",
    "print('Description:  '+ str(user.description))\n"
   ]
  },
  {
   "cell_type": "code",
   "execution_count": 85,
   "metadata": {},
   "outputs": [
    {
     "name": "stdout",
     "output_type": "stream",
     "text": [
      "Input the hashtag:#help\n"
     ]
    }
   ],
   "source": [
    "date_since='2020-03-23'\n",
    "hashtag_phrase=input('Input the hashtag:')"
   ]
  },
  {
   "cell_type": "code",
   "execution_count": 86,
   "metadata": {},
   "outputs": [],
   "source": [
    "tweets=tweepy.Cursor(api.search,q=hashtag_phrase,lang='en',since=date_since).items(1000)\n",
    "tweet_details=[[t.created_at,t.user.screen_name,t.text,t.user.location,t.retweet_count,t.favorite_count] for t in tweets]"
   ]
  },
  {
   "cell_type": "code",
   "execution_count": 88,
   "metadata": {},
   "outputs": [],
   "source": [
    "df=pd.DataFrame(data=tweet_details,columns=['Time','User_name','Tweet_text','User_location','Retweet_count','Likes'])"
   ]
  },
  {
   "cell_type": "code",
   "execution_count": 89,
   "metadata": {},
   "outputs": [
    {
     "data": {
      "text/html": [
       "<div>\n",
       "<style scoped>\n",
       "    .dataframe tbody tr th:only-of-type {\n",
       "        vertical-align: middle;\n",
       "    }\n",
       "\n",
       "    .dataframe tbody tr th {\n",
       "        vertical-align: top;\n",
       "    }\n",
       "\n",
       "    .dataframe thead th {\n",
       "        text-align: right;\n",
       "    }\n",
       "</style>\n",
       "<table border=\"1\" class=\"dataframe\">\n",
       "  <thead>\n",
       "    <tr style=\"text-align: right;\">\n",
       "      <th></th>\n",
       "      <th>Time</th>\n",
       "      <th>User_name</th>\n",
       "      <th>Tweet_text</th>\n",
       "      <th>User_location</th>\n",
       "      <th>Retweet_count</th>\n",
       "      <th>Likes</th>\n",
       "    </tr>\n",
       "  </thead>\n",
       "  <tbody>\n",
       "    <tr>\n",
       "      <th>0</th>\n",
       "      <td>2020-06-25 11:17:41</td>\n",
       "      <td>JrSrkShub</td>\n",
       "      <td>RT @MeerFoundation: It's your last chance to d...</td>\n",
       "      <td>SRK's country</td>\n",
       "      <td>33</td>\n",
       "      <td>0</td>\n",
       "    </tr>\n",
       "    <tr>\n",
       "      <th>1</th>\n",
       "      <td>2020-06-25 11:17:13</td>\n",
       "      <td>linda6452</td>\n",
       "      <td>@ScrubbingBubble still no product in the store...</td>\n",
       "      <td></td>\n",
       "      <td>0</td>\n",
       "      <td>0</td>\n",
       "    </tr>\n",
       "    <tr>\n",
       "      <th>2</th>\n",
       "      <td>2020-06-25 11:16:52</td>\n",
       "      <td>Big_Mal24</td>\n",
       "      <td>RT @metuziel: I need help I am a trans man who...</td>\n",
       "      <td></td>\n",
       "      <td>12580</td>\n",
       "      <td>0</td>\n",
       "    </tr>\n",
       "    <tr>\n",
       "      <th>3</th>\n",
       "      <td>2020-06-25 11:16:47</td>\n",
       "      <td>teamsrkfc</td>\n",
       "      <td>RT @MeerFoundation: It's your last chance to d...</td>\n",
       "      <td>India</td>\n",
       "      <td>33</td>\n",
       "      <td>0</td>\n",
       "    </tr>\n",
       "    <tr>\n",
       "      <th>4</th>\n",
       "      <td>2020-06-25 11:16:43</td>\n",
       "      <td>SRKCHENNAIFC</td>\n",
       "      <td>RT @MeerFoundation: It's your last chance to d...</td>\n",
       "      <td>Mannat - WhatsApp: 9941893723</td>\n",
       "      <td>33</td>\n",
       "      <td>0</td>\n",
       "    </tr>\n",
       "  </tbody>\n",
       "</table>\n",
       "</div>"
      ],
      "text/plain": [
       "                 Time     User_name  \\\n",
       "0 2020-06-25 11:17:41     JrSrkShub   \n",
       "1 2020-06-25 11:17:13     linda6452   \n",
       "2 2020-06-25 11:16:52     Big_Mal24   \n",
       "3 2020-06-25 11:16:47     teamsrkfc   \n",
       "4 2020-06-25 11:16:43  SRKCHENNAIFC   \n",
       "\n",
       "                                          Tweet_text  \\\n",
       "0  RT @MeerFoundation: It's your last chance to d...   \n",
       "1  @ScrubbingBubble still no product in the store...   \n",
       "2  RT @metuziel: I need help I am a trans man who...   \n",
       "3  RT @MeerFoundation: It's your last chance to d...   \n",
       "4  RT @MeerFoundation: It's your last chance to d...   \n",
       "\n",
       "                   User_location  Retweet_count  Likes  \n",
       "0                  SRK's country             33      0  \n",
       "1                                             0      0  \n",
       "2                                         12580      0  \n",
       "3                          India             33      0  \n",
       "4  Mannat - WhatsApp: 9941893723             33      0  "
      ]
     },
     "execution_count": 89,
     "metadata": {},
     "output_type": "execute_result"
    }
   ],
   "source": [
    "df.head()"
   ]
  },
  {
   "cell_type": "code",
   "execution_count": 90,
   "metadata": {},
   "outputs": [
    {
     "data": {
      "text/html": [
       "<div>\n",
       "<style scoped>\n",
       "    .dataframe tbody tr th:only-of-type {\n",
       "        vertical-align: middle;\n",
       "    }\n",
       "\n",
       "    .dataframe tbody tr th {\n",
       "        vertical-align: top;\n",
       "    }\n",
       "\n",
       "    .dataframe thead th {\n",
       "        text-align: right;\n",
       "    }\n",
       "</style>\n",
       "<table border=\"1\" class=\"dataframe\">\n",
       "  <thead>\n",
       "    <tr style=\"text-align: right;\">\n",
       "      <th></th>\n",
       "      <th>Time</th>\n",
       "      <th>User_name</th>\n",
       "      <th>Tweet_text</th>\n",
       "      <th>User_location</th>\n",
       "      <th>Retweet_count</th>\n",
       "      <th>Likes</th>\n",
       "    </tr>\n",
       "  </thead>\n",
       "  <tbody>\n",
       "    <tr>\n",
       "      <th>999</th>\n",
       "      <td>2020-06-25 03:46:48</td>\n",
       "      <td>J0hnnyIuvr</td>\n",
       "      <td>RT @metuziel: I need help I am a trans man who...</td>\n",
       "      <td>Jeno ♡ᵔᴥᵔᵎᵎ</td>\n",
       "      <td>12581</td>\n",
       "      <td>0</td>\n",
       "    </tr>\n",
       "    <tr>\n",
       "      <th>766</th>\n",
       "      <td>2020-06-25 05:21:13</td>\n",
       "      <td>mxrangg</td>\n",
       "      <td>RT @metuziel: I need help I am a trans man who...</td>\n",
       "      <td></td>\n",
       "      <td>12581</td>\n",
       "      <td>0</td>\n",
       "    </tr>\n",
       "    <tr>\n",
       "      <th>810</th>\n",
       "      <td>2020-06-25 05:05:17</td>\n",
       "      <td>sofdelac</td>\n",
       "      <td>RT @metuziel: I need help I am a trans man who...</td>\n",
       "      <td></td>\n",
       "      <td>12581</td>\n",
       "      <td>0</td>\n",
       "    </tr>\n",
       "    <tr>\n",
       "      <th>809</th>\n",
       "      <td>2020-06-25 05:06:07</td>\n",
       "      <td>vnktae</td>\n",
       "      <td>RT @metuziel: I need help I am a trans man who...</td>\n",
       "      <td></td>\n",
       "      <td>12581</td>\n",
       "      <td>0</td>\n",
       "    </tr>\n",
       "    <tr>\n",
       "      <th>805</th>\n",
       "      <td>2020-06-25 05:08:05</td>\n",
       "      <td>animallover3004</td>\n",
       "      <td>RT @metuziel: I need help I am a trans man who...</td>\n",
       "      <td>Nygmobs/Malec land</td>\n",
       "      <td>12581</td>\n",
       "      <td>0</td>\n",
       "    </tr>\n",
       "  </tbody>\n",
       "</table>\n",
       "</div>"
      ],
      "text/plain": [
       "                   Time        User_name  \\\n",
       "999 2020-06-25 03:46:48       J0hnnyIuvr   \n",
       "766 2020-06-25 05:21:13          mxrangg   \n",
       "810 2020-06-25 05:05:17         sofdelac   \n",
       "809 2020-06-25 05:06:07           vnktae   \n",
       "805 2020-06-25 05:08:05  animallover3004   \n",
       "\n",
       "                                            Tweet_text       User_location  \\\n",
       "999  RT @metuziel: I need help I am a trans man who...         Jeno ♡ᵔᴥᵔᵎᵎ   \n",
       "766  RT @metuziel: I need help I am a trans man who...                       \n",
       "810  RT @metuziel: I need help I am a trans man who...                       \n",
       "809  RT @metuziel: I need help I am a trans man who...                       \n",
       "805  RT @metuziel: I need help I am a trans man who...  Nygmobs/Malec land   \n",
       "\n",
       "     Retweet_count  Likes  \n",
       "999          12581      0  \n",
       "766          12581      0  \n",
       "810          12581      0  \n",
       "809          12581      0  \n",
       "805          12581      0  "
      ]
     },
     "execution_count": 90,
     "metadata": {},
     "output_type": "execute_result"
    }
   ],
   "source": [
    " df.sort_values(by=['Retweet_count'], ascending=0).head()"
   ]
  },
  {
   "cell_type": "code",
   "execution_count": 96,
   "metadata": {},
   "outputs": [],
   "source": [
    "df2=df[(df['Retweet_count']==0)&(df['Likes']==0)]\n",
    "df2.head()\n",
    "df2.to_excel('help.xls')"
   ]
  }
 ],
 "metadata": {
  "kernelspec": {
   "display_name": "Python 3",
   "language": "python",
   "name": "python3"
  },
  "language_info": {
   "codemirror_mode": {
    "name": "ipython",
    "version": 3
   },
   "file_extension": ".py",
   "mimetype": "text/x-python",
   "name": "python",
   "nbconvert_exporter": "python",
   "pygments_lexer": "ipython3",
   "version": "3.7.0"
  }
 },
 "nbformat": 4,
 "nbformat_minor": 2
}
